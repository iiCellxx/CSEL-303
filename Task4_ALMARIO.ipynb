{
  "nbformat": 4,
  "nbformat_minor": 0,
  "metadata": {
    "colab": {
      "provenance": [],
      "authorship_tag": "ABX9TyO8/CnjZgJl1KqUVAeGHeV9",
      "include_colab_link": true
    },
    "kernelspec": {
      "name": "python3",
      "display_name": "Python 3"
    },
    "language_info": {
      "name": "python"
    }
  },
  "cells": [
    {
      "cell_type": "markdown",
      "metadata": {
        "id": "view-in-github",
        "colab_type": "text"
      },
      "source": [
        "<a href=\"https://colab.research.google.com/github/iiCellxx/CSEL-303/blob/main/Task4_ALMARIO.ipynb\" target=\"_parent\"><img src=\"https://colab.research.google.com/assets/colab-badge.svg\" alt=\"Open In Colab\"/></a>"
      ]
    },
    {
      "cell_type": "markdown",
      "source": [
        "# Cel Rick D. Almario From BSCS3B\n",
        "\n",
        "Task 4: Smart Grid Simulation Using Multiple Models\n",
        "\n",
        "Scenario:\n",
        "\n",
        "Simulate a smart grid, where:\n",
        "\n",
        "Power generation (renewables, thermal plants) is modeled using continuous equations.\n",
        "\n",
        "Consumer demand follows stochastic discrete events (e.g., appliances turning on/off).\n",
        "\n",
        "• Grid control decisions (e.g., load shedding) are implemented using rule-based logic.\n",
        "\n",
        "Steps:\n",
        "\n",
        "1. Model power generation as continuous differential equations.\n",
        "\n",
        "2. Implement stochastic consumer demand using random events in Python/SimPy.\n",
        "\n",
        "3. Integrate control logic for grid stability.\n",
        "\n",
        "4. Run simulations and compare different grid control strategies."
      ],
      "metadata": {
        "id": "5f_r2vDvv7KO"
      }
    },
    {
      "cell_type": "markdown",
      "source": [
        "# Step 1: Install and Import Required Libraries"
      ],
      "metadata": {
        "id": "sCCQuxlCw7dd"
      }
    },
    {
      "cell_type": "code",
      "source": [
        "!pip install simpy"
      ],
      "metadata": {
        "colab": {
          "base_uri": "https://localhost:8080/"
        },
        "id": "wQgIk1H7w9jM",
        "outputId": "686ac847-6df0-495e-c1fd-b2ab47343fef"
      },
      "execution_count": 1,
      "outputs": [
        {
          "output_type": "stream",
          "name": "stdout",
          "text": [
            "Collecting simpy\n",
            "  Downloading simpy-4.1.1-py3-none-any.whl.metadata (6.1 kB)\n",
            "Downloading simpy-4.1.1-py3-none-any.whl (27 kB)\n",
            "Installing collected packages: simpy\n",
            "Successfully installed simpy-4.1.1\n"
          ]
        }
      ]
    },
    {
      "cell_type": "code",
      "execution_count": 2,
      "metadata": {
        "id": "ytk9RtSbvqUp"
      },
      "outputs": [],
      "source": [
        "import numpy as np\n",
        "import matplotlib.pyplot as plt\n",
        "import simpy\n",
        "from scipy.integrate import odeint\n",
        "import random"
      ]
    },
    {
      "cell_type": "markdown",
      "source": [
        "# Step 2: Model Power Generation as Continuous Equations"
      ],
      "metadata": {
        "id": "5SwY2APRxG1l"
      }
    },
    {
      "cell_type": "markdown",
      "source": [
        "Define Power Generation Model"
      ],
      "metadata": {
        "id": "i04THqTVxxRN"
      }
    },
    {
      "cell_type": "code",
      "source": [
        "def power_generation(y, t, P_solar_max, P_wind_max, P_thermal, alpha_solar, alpha_wind):\n",
        "    \"\"\"\n",
        "    Defines the continuous power generation model using differential equations.\n",
        "\n",
        "    Parameters:\n",
        "        y (list): Current power output [Solar, Wind]\n",
        "        t (float): Time step\n",
        "        P_solar_max (float): Maximum solar power output\n",
        "        P_wind_max (float): Maximum wind power output\n",
        "        P_thermal (float): Constant power from thermal plants\n",
        "        alpha_solar (float): Solar generation variability factor\n",
        "        alpha_wind (float): Wind generation variability factor\n",
        "\n",
        "    Returns:\n",
        "        dydt (list): Rate of change of solar and wind power\n",
        "    \"\"\"\n",
        "    P_solar, P_wind = y\n",
        "    dP_solar_dt = alpha_solar * (P_solar_max - P_solar) * np.sin(0.1 * t)\n",
        "    dP_wind_dt = alpha_wind * (P_wind_max - P_wind) * np.cos(0.1 * t)\n",
        "\n",
        "    return [dP_solar_dt, dP_wind_dt]\n"
      ],
      "metadata": {
        "id": "8SL_RzRqxIK1"
      },
      "execution_count": 3,
      "outputs": []
    },
    {
      "cell_type": "markdown",
      "source": [
        "Solve the Power Generation Model"
      ],
      "metadata": {
        "id": "Rej1vaSyxM5l"
      }
    },
    {
      "cell_type": "code",
      "source": [
        "# Power generation parameters\n",
        "P_solar_max = 100  # Max solar power (MW)\n",
        "P_wind_max = 80    # Max wind power (MW)\n",
        "P_thermal = 120    # Thermal plant power (MW) (constant)\n",
        "alpha_solar = 0.05  # Variability of solar\n",
        "alpha_wind = 0.07   # Variability of wind\n",
        "\n",
        "# Initial conditions: Solar and wind power start at 50% of their max values\n",
        "initial_conditions = [P_solar_max / 2, P_wind_max / 2]\n",
        "\n",
        "# Time range\n",
        "t = np.linspace(0, 24, 1000)  # Simulating 24 hours\n",
        "\n",
        "# Solve ODE\n",
        "solution = odeint(power_generation, initial_conditions, t, args=(P_solar_max, P_wind_max, P_thermal, alpha_solar, alpha_wind))\n",
        "\n",
        "# Extract results\n",
        "P_solar_output, P_wind_output = solution.T\n",
        "P_total_output = P_solar_output + P_wind_output + P_thermal  # Total power available\n"
      ],
      "metadata": {
        "id": "e5MZvGssxQkN"
      },
      "execution_count": 4,
      "outputs": []
    },
    {
      "cell_type": "markdown",
      "source": [
        "# Step 3: Simulate Stochastic Consumer Demand"
      ],
      "metadata": {
        "id": "vaTY4_LjxVAt"
      }
    },
    {
      "cell_type": "markdown",
      "source": [
        "Define Consumer Demand Model Using SimPy"
      ],
      "metadata": {
        "id": "UlscVzEvxz0F"
      }
    },
    {
      "cell_type": "code",
      "source": [
        "class ConsumerDemand:\n",
        "    def __init__(self, env, demand_mean, demand_std, time_interval, grid):\n",
        "        \"\"\"\n",
        "        Initializes the consumer demand process.\n",
        "\n",
        "        Parameters:\n",
        "            env (simpy.Environment): Simulation environment\n",
        "            demand_mean (float): Average power demand (MW)\n",
        "            demand_std (float): Demand variability\n",
        "            time_interval (float): Frequency of demand updates (minutes)\n",
        "            grid (GridControl): Grid control object to monitor demand\n",
        "        \"\"\"\n",
        "        self.env = env\n",
        "        self.demand_mean = demand_mean\n",
        "        self.demand_std = demand_std\n",
        "        self.time_interval = time_interval\n",
        "        self.grid = grid\n",
        "        self.process = env.process(self.update_demand())\n",
        "\n",
        "    def update_demand(self):\n",
        "        \"\"\"Stochastically updates power demand every 'time_interval' minutes.\"\"\"\n",
        "        while True:\n",
        "            demand_variation = np.random.normal(self.demand_mean, self.demand_std)\n",
        "            self.grid.update_demand(demand_variation)\n",
        "            yield self.env.timeout(self.time_interval)\n"
      ],
      "metadata": {
        "id": "2gZaoYsOxWvd"
      },
      "execution_count": 5,
      "outputs": []
    },
    {
      "cell_type": "markdown",
      "source": [
        "Set Up Simulation Parameters"
      ],
      "metadata": {
        "id": "KWBazjV_xZnF"
      }
    },
    {
      "cell_type": "code",
      "source": [
        "# Consumer demand parameters\n",
        "demand_mean = 250  # MW\n",
        "demand_std = 20    # MW variation\n",
        "demand_update_interval = 5  # Demand updates every 5 minutes\n"
      ],
      "metadata": {
        "id": "ApUPIcW2xand"
      },
      "execution_count": 6,
      "outputs": []
    },
    {
      "cell_type": "markdown",
      "source": [
        "# Step 4: Implement Rule-Based Grid Control"
      ],
      "metadata": {
        "id": "On0pUSGVxcPN"
      }
    },
    {
      "cell_type": "markdown",
      "source": [
        "Define Grid Control System"
      ],
      "metadata": {
        "id": "MNPy0ERMxd5F"
      }
    },
    {
      "cell_type": "code",
      "source": [
        "class GridControl:\n",
        "    def __init__(self, env, initial_demand, total_power):\n",
        "        \"\"\"\n",
        "        Initializes the smart grid control system.\n",
        "\n",
        "        Parameters:\n",
        "            env (simpy.Environment): Simulation environment\n",
        "            initial_demand (float): Initial power demand (MW)\n",
        "            total_power (list): Power generation array from the continuous model\n",
        "        \"\"\"\n",
        "        self.env = env\n",
        "        self.total_power = total_power\n",
        "        self.current_demand = initial_demand\n",
        "        self.current_time_index = 0\n",
        "        self.load_shedding_events = []\n",
        "        self.process = env.process(self.monitor_grid())\n",
        "\n",
        "    def update_demand(self, new_demand):\n",
        "        \"\"\"Updates consumer demand.\"\"\"\n",
        "        self.current_demand = new_demand\n",
        "\n",
        "    def monitor_grid(self):\n",
        "        \"\"\"Monitors grid and applies load shedding if necessary.\"\"\"\n",
        "        while self.current_time_index < len(self.total_power):\n",
        "            available_power = self.total_power[self.current_time_index]\n",
        "\n",
        "            if self.current_demand > available_power:\n",
        "                shed_amount = self.current_demand - available_power\n",
        "                self.current_demand -= shed_amount\n",
        "                self.load_shedding_events.append((self.env.now, shed_amount))\n",
        "                print(f\"🔴 Load shedding at t={self.env.now:.2f}h | {shed_amount:.2f} MW shed\")\n",
        "\n",
        "            self.current_time_index += 1\n",
        "            yield self.env.timeout(0.1)  # Simulate in small steps\n"
      ],
      "metadata": {
        "id": "o-GJgMy3xe3F"
      },
      "execution_count": 7,
      "outputs": []
    },
    {
      "cell_type": "markdown",
      "source": [
        "# Step 5: Run the Smart Grid Simulation"
      ],
      "metadata": {
        "id": "05gC2D73xn_F"
      }
    },
    {
      "cell_type": "code",
      "source": [
        "# Initialize simulation environment\n",
        "env = simpy.Environment()\n",
        "\n",
        "# Initialize grid control system\n",
        "grid = GridControl(env, demand_mean, P_total_output)\n",
        "\n",
        "# Initialize consumer demand process\n",
        "consumer_demand = ConsumerDemand(env, demand_mean, demand_std, demand_update_interval, grid)\n",
        "\n",
        "# Run simulation\n",
        "env.run(until=24)  # Run for 24 hours\n"
      ],
      "metadata": {
        "colab": {
          "base_uri": "https://localhost:8080/"
        },
        "id": "-BABiOgPxo9F",
        "outputId": "92c417a1-84cd-4ddc-a39d-d9aa969755fd"
      },
      "execution_count": 8,
      "outputs": [
        {
          "output_type": "stream",
          "name": "stdout",
          "text": [
            "🔴 Load shedding at t=0.00h | 40.00 MW shed\n",
            "🔴 Load shedding at t=0.10h | 56.53 MW shed\n",
            "🔴 Load shedding at t=5.10h | 23.52 MW shed\n",
            "🔴 Load shedding at t=10.10h | 36.16 MW shed\n",
            "🔴 Load shedding at t=15.10h | 26.59 MW shed\n",
            "🔴 Load shedding at t=20.00h | 53.50 MW shed\n"
          ]
        }
      ]
    },
    {
      "cell_type": "markdown",
      "source": [
        "# Step 6: Analyze and Visualize Results"
      ],
      "metadata": {
        "id": "EEkSMn7AxrH9"
      }
    },
    {
      "cell_type": "code",
      "source": [
        "# Extract load shedding events\n",
        "shedding_times, shedding_amounts = zip(*grid.load_shedding_events) if grid.load_shedding_events else ([], [])\n",
        "\n",
        "# Plot Power Generation vs. Demand\n",
        "plt.figure(figsize=(10, 5))\n",
        "plt.plot(t, P_total_output, label=\"Total Power Available\", color=\"green\", linewidth=2)\n",
        "plt.axhline(y=demand_mean, color=\"blue\", linestyle=\"--\", label=\"Average Demand\")\n",
        "plt.scatter(shedding_times, shedding_amounts, color=\"red\", label=\"Load Shedding Events\", zorder=3)\n",
        "\n",
        "plt.xlabel(\"Time (hours)\")\n",
        "plt.ylabel(\"Power (MW)\")\n",
        "plt.title(\"Smart Grid Power Balance & Load Shedding Events\")\n",
        "plt.legend()\n",
        "plt.grid()\n",
        "plt.show()\n"
      ],
      "metadata": {
        "colab": {
          "base_uri": "https://localhost:8080/",
          "height": 487
        },
        "id": "TmVXof-pxsNd",
        "outputId": "eb482b03-b8ff-41af-ee6b-006ac8c74650"
      },
      "execution_count": 9,
      "outputs": [
        {
          "output_type": "display_data",
          "data": {
            "text/plain": [
              "<Figure size 1000x500 with 1 Axes>"
            ],
            "image/png": "[encoded data removed]"
          },
          "metadata": {}
        }
      ]
    }
  ]
}