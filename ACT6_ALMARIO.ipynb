{
  "nbformat": 4,
  "nbformat_minor": 0,
  "metadata": {
    "colab": {
      "provenance": [],
      "authorship_tag": "ABX9TyPvsWoumatG2R7jsuNUxLDs",
      "include_colab_link": true
    },
    "kernelspec": {
      "name": "python3",
      "display_name": "Python 3"
    },
    "language_info": {
      "name": "python"
    }
  },
  "cells": [
    {
      "cell_type": "markdown",
      "metadata": {
        "id": "view-in-github",
        "colab_type": "text"
      },
      "source": [
        "<a href=\"https://colab.research.google.com/github/iiCellxx/CSEL-303/blob/main/ACT6_ALMARIO.ipynb\" target=\"_parent\"><img src=\"https://colab.research.google.com/assets/colab-badge.svg\" alt=\"Open In Colab\"/></a>"
      ]
    },
    {
      "cell_type": "markdown",
      "source": [
        "# Part 1: Queuing System"
      ],
      "metadata": {
        "id": "nJSw9zSv6a5U"
      }
    },
    {
      "cell_type": "code",
      "execution_count": 1,
      "metadata": {
        "colab": {
          "base_uri": "https://localhost:8080/"
        },
        "id": "CnpRXvcN6T75",
        "outputId": "08112a4c-3884-45d1-8832-9b223940347b"
      },
      "outputs": [
        {
          "output_type": "stream",
          "name": "stdout",
          "text": [
            "Enter arrival rate (λ): 2\n",
            "Enter service rate (μ): 3\n",
            "Enter number of servers (c): 4\n",
            "Utilization Factor (ρ): 0.1667\n",
            "P0 (No customers in system): 0.5133\n",
            "Lq (Expected number in queue): 0.001\n",
            "L (Expected number in system): 0.6677\n",
            "Wq (Expected wait time in queue): 0.0005\n",
            "W (Expected total time in system): 0.3338\n"
          ]
        }
      ],
      "source": [
        "import math\n",
        "\n",
        "def mmc_queue(arrival_rate, service_rate, num_servers):\n",
        "    rho = arrival_rate / (num_servers * service_rate)  # Utilization factor\n",
        "    if rho >= 1:\n",
        "        return \"System is unstable (ρ ≥ 1). Increase the number of servers.\"\n",
        "\n",
        "    # Probability of zero customers in the system (P0)\n",
        "    sum_term = sum([(arrival_rate/service_rate)**n / math.factorial(n) for n in range(num_servers)])\n",
        "    p0 = 1 / (sum_term + ((arrival_rate/service_rate)**num_servers / (math.factorial(num_servers) * (1 - rho))))\n",
        "\n",
        "    # Expected number of customers in queue (Lq)\n",
        "    lq = ( (arrival_rate/service_rate)**num_servers * rho ) / (math.factorial(num_servers) * (1 - rho)**2) * p0\n",
        "\n",
        "    # Expected number of customers in system (L)\n",
        "    l = lq + (arrival_rate / service_rate)\n",
        "\n",
        "    # Expected waiting time in queue (Wq)\n",
        "    wq = lq / arrival_rate\n",
        "\n",
        "    # Expected waiting time in system (W)\n",
        "    w = wq + (1 / service_rate)\n",
        "\n",
        "    return {\n",
        "        \"Utilization Factor (ρ)\": round(rho, 4),\n",
        "        \"P0 (No customers in system)\": round(p0, 4),\n",
        "        \"Lq (Expected number in queue)\": round(lq, 4),\n",
        "        \"L (Expected number in system)\": round(l, 4),\n",
        "        \"Wq (Expected wait time in queue)\": round(wq, 4),\n",
        "        \"W (Expected total time in system)\": round(w, 4)\n",
        "    }\n",
        "\n",
        "# Example usage\n",
        "arrival_rate = float(input(\"Enter arrival rate (λ): \"))\n",
        "service_rate = float(input(\"Enter service rate (μ): \"))\n",
        "num_servers = int(input(\"Enter number of servers (c): \"))\n",
        "\n",
        "results = mmc_queue(arrival_rate, service_rate, num_servers)\n",
        "for key, value in results.items():\n",
        "    print(f\"{key}: {value}\")\n"
      ]
    },
    {
      "cell_type": "markdown",
      "source": [
        "# Part 2: Model Implementation"
      ],
      "metadata": {
        "id": "LVreHjIq6kZL"
      }
    },
    {
      "cell_type": "code",
      "source": [
        "!pip install simpy"
      ],
      "metadata": {
        "colab": {
          "base_uri": "https://localhost:8080/"
        },
        "id": "fUGMDZFX670L",
        "outputId": "274c33b7-3c06-41d3-dc32-65ae3af199c4"
      },
      "execution_count": 4,
      "outputs": [
        {
          "output_type": "stream",
          "name": "stdout",
          "text": [
            "Collecting simpy\n",
            "  Downloading simpy-4.1.1-py3-none-any.whl.metadata (6.1 kB)\n",
            "Downloading simpy-4.1.1-py3-none-any.whl (27 kB)\n",
            "Installing collected packages: simpy\n",
            "Successfully installed simpy-4.1.1\n"
          ]
        }
      ]
    },
    {
      "cell_type": "code",
      "source": [
        "import simpy\n",
        "import random\n",
        "import numpy as np\n",
        "\n",
        "# Input Parameters\n",
        "ARRIVAL_RATE = 5  # Customers per minute (λ)\n",
        "SERVICE_RATE = 8  # Customers served per minute (μ)\n",
        "NUM_SERVERS = 2   # Number of servers (c)\n",
        "SIMULATION_TIME = 100  # Total simulation time in minutes\n",
        "\n",
        "# Global variables to track performance metrics\n",
        "wait_times = []\n",
        "queue_lengths = []\n",
        "server_busy_time = 0\n",
        "\n",
        "class QueueSystem:\n",
        "    def __init__(self, env, num_servers, service_rate):\n",
        "        self.env = env\n",
        "        self.server = simpy.Resource(env, num_servers)\n",
        "        self.service_rate = service_rate\n",
        "\n",
        "    def serve_customer(self, customer):\n",
        "        global server_busy_time\n",
        "        service_time = random.expovariate(self.service_rate)\n",
        "        server_busy_time += service_time\n",
        "        yield self.env.timeout(service_time)\n",
        "\n",
        "def customer_arrival(env, queue_system):\n",
        "    \"\"\"Simulates customer arrivals based on Poisson process.\"\"\"\n",
        "    while True:\n",
        "        interarrival_time = random.expovariate(ARRIVAL_RATE)\n",
        "        yield env.timeout(interarrival_time)\n",
        "\n",
        "        env.process(customer_process(env, queue_system))\n",
        "\n",
        "def customer_process(env, queue_system):\n",
        "    \"\"\"Handles a single customer's experience in the queue system.\"\"\"\n",
        "    arrival_time = env.now\n",
        "    with queue_system.server.request() as request:\n",
        "        yield request\n",
        "        wait_times.append(env.now - arrival_time)  # Track wait time\n",
        "        yield env.process(queue_system.serve_customer(\"Customer\"))\n",
        "\n",
        "def track_queue(env, queue_system):\n",
        "    \"\"\"Tracks the queue length over time.\"\"\"\n",
        "    while True:\n",
        "        queue_lengths.append(len(queue_system.server.queue))\n",
        "        yield env.timeout(1)  # Check every minute\n",
        "\n",
        "# Run the Simulation\n",
        "env = simpy.Environment()\n",
        "queue_system = QueueSystem(env, NUM_SERVERS, SERVICE_RATE)\n",
        "env.process(customer_arrival(env, queue_system))\n",
        "env.process(track_queue(env, queue_system))\n",
        "env.run(until=SIMULATION_TIME)\n",
        "\n",
        "# Compute Performance Metrics\n",
        "avg_wait_time = np.mean(wait_times)\n",
        "server_utilization = server_busy_time / (NUM_SERVERS * SIMULATION_TIME)\n",
        "avg_queue_length = np.mean(queue_lengths)\n",
        "\n",
        "# Print Results\n",
        "print(f\"Average Wait Time: {avg_wait_time:.2f} minutes\")\n",
        "print(f\"Server Utilization: {server_utilization:.2%}\")\n",
        "print(f\"Average Queue Length: {avg_queue_length:.2f}\")\n"
      ],
      "metadata": {
        "colab": {
          "base_uri": "https://localhost:8080/"
        },
        "id": "WnEu3DDk6lzj",
        "outputId": "e26d59fa-c3d6-4a27-90be-e2828d43430d"
      },
      "execution_count": 5,
      "outputs": [
        {
          "output_type": "stream",
          "name": "stdout",
          "text": [
            "Average Wait Time: 0.01 minutes\n",
            "Server Utilization: 27.69%\n",
            "Average Queue Length: 0.03\n"
          ]
        }
      ]
    },
    {
      "cell_type": "markdown",
      "source": [
        "# Part 3: Experimentation and Analysis"
      ],
      "metadata": {
        "id": "LycwWk8L7At7"
      }
    },
    {
      "cell_type": "code",
      "source": [
        "import simpy\n",
        "import random\n",
        "import numpy as np\n",
        "import pandas as pd\n",
        "import matplotlib.pyplot as plt\n",
        "\n",
        "# Simulation function\n",
        "def simulate_queue(arrival_rate, service_rate, num_servers, sim_time=100):\n",
        "    wait_times = []\n",
        "    queue_lengths = []\n",
        "    server_busy_time = 0\n",
        "\n",
        "    class QueueSystem:\n",
        "        def __init__(self, env, num_servers, service_rate):\n",
        "            self.env = env\n",
        "            self.server = simpy.Resource(env, num_servers)\n",
        "            self.service_rate = service_rate\n",
        "\n",
        "        def serve_customer(self):\n",
        "            nonlocal server_busy_time\n",
        "            service_time = random.expovariate(self.service_rate)\n",
        "            server_busy_time += service_time\n",
        "            yield self.env.timeout(service_time)\n",
        "\n",
        "    def customer_arrival(env, queue_system):\n",
        "        while True:\n",
        "            interarrival_time = random.expovariate(arrival_rate)\n",
        "            yield env.timeout(interarrival_time)\n",
        "            env.process(customer_process(env, queue_system))\n",
        "\n",
        "    def customer_process(env, queue_system):\n",
        "        arrival_time = env.now\n",
        "        with queue_system.server.request() as request:\n",
        "            yield request\n",
        "            wait_times.append(env.now - arrival_time)\n",
        "            yield env.process(queue_system.serve_customer())\n",
        "\n",
        "    def track_queue(env, queue_system):\n",
        "        while True:\n",
        "            queue_lengths.append(len(queue_system.server.queue))\n",
        "            yield env.timeout(1)\n",
        "\n",
        "    env = simpy.Environment()\n",
        "    queue_system = QueueSystem(env, num_servers, service_rate)\n",
        "    env.process(customer_arrival(env, queue_system))\n",
        "    env.process(track_queue(env, queue_system))\n",
        "    env.run(until=sim_time)\n",
        "\n",
        "    avg_wait_time = np.mean(wait_times)\n",
        "    server_utilization = server_busy_time / (num_servers * sim_time)\n",
        "    avg_queue_length = np.mean(queue_lengths)\n",
        "\n",
        "    return avg_wait_time, server_utilization, avg_queue_length\n",
        "\n",
        "# Parameter variations\n",
        "arrival_rates = [3, 5, 7]  # Customers per minute\n",
        "service_rates = [5, 8, 10]  # Service rate per minute\n",
        "num_servers = [1, 2, 3]  # Number of servers\n",
        "\n",
        "results = []\n",
        "\n",
        "# Run experiments\n",
        "for ar in arrival_rates:\n",
        "    for sr in service_rates:\n",
        "        for ns in num_servers:\n",
        "            avg_wait, util, queue_len = simulate_queue(ar, sr, ns)\n",
        "            results.append([ar, sr, ns, round(avg_wait, 2), round(util, 2), round(queue_len, 2)])\n",
        "\n",
        "# Convert results to DataFrame\n",
        "df = pd.DataFrame(results, columns=[\"Arrival Rate\", \"Service Rate\", \"Servers\", \"Avg Wait Time\", \"Utilization\", \"Avg Queue Length\"])\n",
        "print(df)\n",
        "\n",
        "# Plot results\n",
        "plt.figure(figsize=(10,5))\n",
        "for sr in service_rates:\n",
        "    subset = df[df[\"Service Rate\"] == sr]\n",
        "    plt.plot(subset[\"Arrival Rate\"], subset[\"Avg Wait Time\"], marker=\"o\", label=f\"Service Rate {sr}\")\n",
        "\n",
        "plt.xlabel(\"Arrival Rate\")\n",
        "plt.ylabel(\"Average Wait Time\")\n",
        "plt.title(\"Impact of Arrival Rate on Wait Time\")\n",
        "plt.legend()\n",
        "plt.grid()\n",
        "plt.show()\n"
      ],
      "metadata": {
        "colab": {
          "base_uri": "https://localhost:8080/",
          "height": 1000
        },
        "id": "mM8WBS-k7CIL",
        "outputId": "08db87f5-bbcb-4e04-9280-3477f3176b08"
      },
      "execution_count": 6,
      "outputs": [
        {
          "output_type": "stream",
          "name": "stdout",
          "text": [
            "    Arrival Rate  Service Rate  Servers  Avg Wait Time  Utilization  \\\n",
            "0              3             5        1           0.48         0.65   \n",
            "1              3             5        2           0.02         0.28   \n",
            "2              3             5        3           0.00         0.20   \n",
            "3              3             8        1           0.05         0.36   \n",
            "4              3             8        2           0.00         0.17   \n",
            "5              3             8        3           0.00         0.13   \n",
            "6              3            10        1           0.04         0.31   \n",
            "7              3            10        2           0.00         0.15   \n",
            "8              3            10        3           0.00         0.09   \n",
            "9              5             5        1           1.61         0.91   \n",
            "10             5             5        2           0.06         0.49   \n",
            "11             5             5        3           0.01         0.33   \n",
            "12             5             8        1           0.15         0.62   \n",
            "13             5             8        2           0.02         0.36   \n",
            "14             5             8        3           0.00         0.19   \n",
            "15             5            10        1           0.09         0.52   \n",
            "16             5            10        2           0.01         0.26   \n",
            "17             5            10        3           0.00         0.19   \n",
            "18             7             5        1          24.27         1.00   \n",
            "19             7             5        2           0.12         0.68   \n",
            "20             7             5        3           0.02         0.49   \n",
            "21             7             8        1           1.57         0.92   \n",
            "22             7             8        2           0.03         0.45   \n",
            "23             7             8        3           0.00         0.29   \n",
            "24             7            10        1           0.23         0.73   \n",
            "25             7            10        2           0.01         0.37   \n",
            "26             7            10        3           0.00         0.26   \n",
            "\n",
            "    Avg Queue Length  \n",
            "0               1.52  \n",
            "1               0.03  \n",
            "2               0.00  \n",
            "3               0.16  \n",
            "4               0.00  \n",
            "5               0.00  \n",
            "6               0.10  \n",
            "7               0.01  \n",
            "8               0.00  \n",
            "9               7.98  \n",
            "10              0.38  \n",
            "11              0.01  \n",
            "12              0.88  \n",
            "13              0.06  \n",
            "14              0.02  \n",
            "15              0.40  \n",
            "16              0.03  \n",
            "17              0.00  \n",
            "18            166.26  \n",
            "19              0.84  \n",
            "20              0.20  \n",
            "21             11.34  \n",
            "22              0.27  \n",
            "23              0.01  \n",
            "24              1.59  \n",
            "25              0.09  \n",
            "26              0.04  \n"
          ]
        },
        {
          "output_type": "display_data",
          "data": {
            "text/plain": [
              "<Figure size 1000x500 with 1 Axes>"
            ],
            "image/png": "[encoded data removed]"
          },
          "metadata": {}
        }
      ]
    }
  ]
}